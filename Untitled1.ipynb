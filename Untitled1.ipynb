{
  "nbformat": 4,
  "nbformat_minor": 0,
  "metadata": {
    "colab": {
      "provenance": [],
      "authorship_tag": "ABX9TyO/OIoo64GjRlVwEdt1Qpyh",
      "include_colab_link": true
    },
    "kernelspec": {
      "name": "python3",
      "display_name": "Python 3"
    },
    "language_info": {
      "name": "python"
    }
  },
  "cells": [
    {
      "cell_type": "markdown",
      "metadata": {
        "id": "view-in-github",
        "colab_type": "text"
      },
      "source": [
        "<a href=\"https://colab.research.google.com/github/l24590411-blip/Parentesis_Balanceados/blob/main/Untitled1.ipynb\" target=\"_parent\"><img src=\"https://colab.research.google.com/assets/colab-badge.svg\" alt=\"Open In Colab\"/></a>"
      ]
    },
    {
      "cell_type": "code",
      "execution_count": 4,
      "metadata": {
        "colab": {
          "base_uri": "https://localhost:8080/"
        },
        "id": "dmSlugTK-4IP",
        "outputId": "6e443d55-ee37-4957-cf7e-4f0c3854a648"
      },
      "outputs": [
        {
          "output_type": "stream",
          "name": "stdout",
          "text": [
            "Ingresa una expresión matemática: 4+8)\n",
            " Los paréntesis NO están balanceados\n"
          ]
        }
      ],
      "source": [
        "class Pila:\n",
        "    def __init__(self):\n",
        "        self.items = []\n",
        "\n",
        "    def esta_vacia(self):\n",
        "        return len(self.items) == 0\n",
        "\n",
        "    def apilar(self, item):\n",
        "        self.items.append(item)\n",
        "\n",
        "    def desapilar(self):\n",
        "        if not self.esta_vacia():\n",
        "            return self.items.pop()\n",
        "        return None\n",
        "\n",
        "\n",
        "def parentesis_balanceados(expresion):\n",
        "    pila = Pila()\n",
        "    for caracter in expresion:\n",
        "        if caracter == \"(\":\n",
        "            pila.apilar(caracter)\n",
        "        elif caracter == \")\":\n",
        "            if pila.esta_vacia():\n",
        "                return False\n",
        "            pila.desapilar()\n",
        "    return pila.esta_vacia()\n",
        "\n",
        "\n",
        "# ---------- Menú ----------\n",
        "def verificar_parentesis():\n",
        "    expresion = input(\"Ingresa una expresión matemática: \")\n",
        "    if parentesis_balanceados(expresion):\n",
        "        print(\"Los paréntesis están balanceados\")\n",
        "    else:\n",
        "        print(\" Los paréntesis NO están balanceados\")\n",
        "\n",
        "\n",
        "verificar_parentesis()"
      ]
    }
  ]
}